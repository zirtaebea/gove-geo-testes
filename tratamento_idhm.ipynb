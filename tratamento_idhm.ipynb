{
 "cells": [
  {
   "cell_type": "code",
   "execution_count": 2,
   "metadata": {},
   "outputs": [],
   "source": [
    "import pandas as pd\n",
    "import numpy as np"
   ]
  },
  {
   "cell_type": "code",
   "execution_count": 5,
   "metadata": {},
   "outputs": [
    {
     "data": {
      "text/html": [
       "<div>\n",
       "<style scoped>\n",
       "    .dataframe tbody tr th:only-of-type {\n",
       "        vertical-align: middle;\n",
       "    }\n",
       "\n",
       "    .dataframe tbody tr th {\n",
       "        vertical-align: top;\n",
       "    }\n",
       "\n",
       "    .dataframe thead th {\n",
       "        text-align: right;\n",
       "    }\n",
       "</style>\n",
       "<table border=\"1\" class=\"dataframe\">\n",
       "  <thead>\n",
       "    <tr style=\"text-align: right;\">\n",
       "      <th></th>\n",
       "      <th>Territorialidades</th>\n",
       "      <th>IDHM 2010</th>\n",
       "    </tr>\n",
       "  </thead>\n",
       "  <tbody>\n",
       "    <tr>\n",
       "      <th>0</th>\n",
       "      <td>Brasil</td>\n",
       "      <td>0.727</td>\n",
       "    </tr>\n",
       "    <tr>\n",
       "      <th>1</th>\n",
       "      <td>Acupe : Padre Eloy (Salvador,  - Salvador)</td>\n",
       "      <td>0.693</td>\n",
       "    </tr>\n",
       "    <tr>\n",
       "      <th>2</th>\n",
       "      <td>Acupe (Salvador,  - Salvador)</td>\n",
       "      <td>0.887</td>\n",
       "    </tr>\n",
       "    <tr>\n",
       "      <th>3</th>\n",
       "      <td>Aeroporto (Salvador,  - Salvador)</td>\n",
       "      <td>0.907</td>\n",
       "    </tr>\n",
       "    <tr>\n",
       "      <th>4</th>\n",
       "      <td>Águas Claras : BR 324 / Entorno da Rua Celika ...</td>\n",
       "      <td>0.642</td>\n",
       "    </tr>\n",
       "    <tr>\n",
       "      <th>5</th>\n",
       "      <td>Águas Claras : Conjunto Habitacional de Águas ...</td>\n",
       "      <td>0.841</td>\n",
       "    </tr>\n",
       "    <tr>\n",
       "      <th>6</th>\n",
       "      <td>Águas Claras : Entorno da Av. Presidente Médic...</td>\n",
       "      <td>0.591</td>\n",
       "    </tr>\n",
       "    <tr>\n",
       "      <th>7</th>\n",
       "      <td>Águas Claras : Entorno da Rua Benedito Jenkis ...</td>\n",
       "      <td>0.733</td>\n",
       "    </tr>\n",
       "    <tr>\n",
       "      <th>8</th>\n",
       "      <td>Alto das Pombas / Calabar (Salvador,  - Salvador)</td>\n",
       "      <td>0.69</td>\n",
       "    </tr>\n",
       "    <tr>\n",
       "      <th>9</th>\n",
       "      <td>Alto da Terezinha / Praia Grande / Rio Sena (S...</td>\n",
       "      <td>0.639</td>\n",
       "    </tr>\n",
       "  </tbody>\n",
       "</table>\n",
       "</div>"
      ],
      "text/plain": [
       "                                   Territorialidades IDHM 2010\n",
       "0                                             Brasil     0.727\n",
       "1         Acupe : Padre Eloy (Salvador,  - Salvador)     0.693\n",
       "2                      Acupe (Salvador,  - Salvador)     0.887\n",
       "3                  Aeroporto (Salvador,  - Salvador)     0.907\n",
       "4  Águas Claras : BR 324 / Entorno da Rua Celika ...     0.642\n",
       "5  Águas Claras : Conjunto Habitacional de Águas ...     0.841\n",
       "6  Águas Claras : Entorno da Av. Presidente Médic...     0.591\n",
       "7  Águas Claras : Entorno da Rua Benedito Jenkis ...     0.733\n",
       "8  Alto das Pombas / Calabar (Salvador,  - Salvador)      0.69\n",
       "9  Alto da Terezinha / Praia Grande / Rio Sena (S...     0.639"
      ]
     },
     "execution_count": 5,
     "metadata": {},
     "output_type": "execute_result"
    }
   ],
   "source": [
    "idhm = pd.read_excel('planilhas/dados_idhm.xlsx')\n",
    "idhm.head(10)"
   ]
  },
  {
   "cell_type": "code",
   "execution_count": null,
   "metadata": {},
   "outputs": [],
   "source": [
    "# fazer uma coluna de bairro e outra de território\n",
    "# primeiro inserir um referencial para poder cortar o texto\n",
    "\n"
   ]
  }
 ],
 "metadata": {
  "kernelspec": {
   "display_name": "Python 3",
   "language": "python",
   "name": "python3"
  },
  "language_info": {
   "codemirror_mode": {
    "name": "ipython",
    "version": 3
   },
   "file_extension": ".py",
   "mimetype": "text/x-python",
   "name": "python",
   "nbconvert_exporter": "python",
   "pygments_lexer": "ipython3",
   "version": "3.12.3"
  }
 },
 "nbformat": 4,
 "nbformat_minor": 2
}
