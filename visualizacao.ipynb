{
 "cells": [
  {
   "cell_type": "code",
   "execution_count": 6,
   "metadata": {},
   "outputs": [],
   "source": [
    "import pandas as pd\n",
    "import numpy as np\n",
    "import json"
   ]
  },
  {
   "cell_type": "code",
   "execution_count": 21,
   "metadata": {},
   "outputs": [
    {
     "data": {
      "text/html": [
       "<div>\n",
       "<style scoped>\n",
       "    .dataframe tbody tr th:only-of-type {\n",
       "        vertical-align: middle;\n",
       "    }\n",
       "\n",
       "    .dataframe tbody tr th {\n",
       "        vertical-align: top;\n",
       "    }\n",
       "\n",
       "    .dataframe thead th {\n",
       "        text-align: right;\n",
       "    }\n",
       "</style>\n",
       "<table border=\"1\" class=\"dataframe\">\n",
       "  <thead>\n",
       "    <tr style=\"text-align: right;\">\n",
       "      <th></th>\n",
       "      <th>data</th>\n",
       "      <th>filtro.tamPagina</th>\n",
       "      <th>filtro.numPagina</th>\n",
       "      <th>filtro.cpf_cnpj</th>\n",
       "      <th>filtro.data_atualizacao</th>\n",
       "      <th>dadosPagina.tempoConsulta</th>\n",
       "      <th>dadosPagina.linhaInicial</th>\n",
       "      <th>dadosPagina.tamPagina</th>\n",
       "    </tr>\n",
       "  </thead>\n",
       "  <tbody>\n",
       "    <tr>\n",
       "      <th>0</th>\n",
       "      <td>[{'LINHA': '1', 'INSCRICAO': '1608959', 'MAT_E...</td>\n",
       "      <td>200</td>\n",
       "      <td>1</td>\n",
       "      <td>39626032553</td>\n",
       "      <td></td>\n",
       "      <td>00:00:13.5717419</td>\n",
       "      <td>1</td>\n",
       "      <td>5</td>\n",
       "    </tr>\n",
       "  </tbody>\n",
       "</table>\n",
       "</div>"
      ],
      "text/plain": [
       "                                                data filtro.tamPagina  \\\n",
       "0  [{'LINHA': '1', 'INSCRICAO': '1608959', 'MAT_E...              200   \n",
       "\n",
       "  filtro.numPagina filtro.cpf_cnpj filtro.data_atualizacao  \\\n",
       "0                1     39626032553                           \n",
       "\n",
       "  dadosPagina.tempoConsulta dadosPagina.linhaInicial  dadosPagina.tamPagina  \n",
       "0          00:00:13.5717419                        1                      5  "
      ]
     },
     "execution_count": 21,
     "metadata": {},
     "output_type": "execute_result"
    }
   ],
   "source": [
    "# Ler o conteúdo do arquivo txt\n",
    "with open('dados/586/response.txt', 'r') as file:\n",
    "    json_str = file.read()\n",
    "\n",
    "# Carregar o JSON\n",
    "json_data = json.loads(json_str)\n",
    "\n",
    "# Converter o JSON em um DataFrame\n",
    "if isinstance(json_data, list):\n",
    "    df = pd.json_normalize(json_data)\n",
    "elif isinstance(json_data, dict):\n",
    "    df = pd.json_normalize(json_data)\n",
    "else:\n",
    "    raise ValueError(\"Formato de JSON inesperado.\")\n",
    "\n",
    "# Exibir o DataFrame\n",
    "df"
   ]
  },
  {
   "cell_type": "code",
   "execution_count": 30,
   "metadata": {},
   "outputs": [
    {
     "name": "stdout",
     "output_type": "stream",
     "text": [
      "<class 'pandas.core.frame.DataFrame'>\n",
      "RangeIndex: 1 entries, 0 to 0\n",
      "Data columns (total 72 columns):\n",
      " #   Column                      Non-Null Count  Dtype  \n",
      "---  ------                      --------------  -----  \n",
      " 0   filtro.tamPagina            1 non-null      object \n",
      " 1   filtro.numPagina            1 non-null      object \n",
      " 2   filtro.cpf_cnpj             1 non-null      object \n",
      " 3   filtro.data_atualizacao     1 non-null      object \n",
      " 4   dadosPagina.tempoConsulta   1 non-null      object \n",
      " 5   dadosPagina.linhaInicial    1 non-null      object \n",
      " 6   dadosPagina.tamPagina       1 non-null      int64  \n",
      " 7   LINHA                       1 non-null      object \n",
      " 8   INSCRICAO                   1 non-null      object \n",
      " 9   SITUACAO_CAD                1 non-null      object \n",
      " 10  COD_IMOVEL                  1 non-null      object \n",
      " 11  ID_CONTRIBUINTE             1 non-null      int64  \n",
      " 12  NOME_CONTRIBUINTE           1 non-null      object \n",
      " 13  CPF_CNPJ_CONTRIBUINTE       1 non-null      object \n",
      " 14  NOME_DESTINATARIO           1 non-null      object \n",
      " 15  CPF_CNPJ_DESTINATARIO       1 non-null      object \n",
      " 16  CD_LOGRADOURO_TRIBUTACAO    1 non-null      int64  \n",
      " 17  LOGRADOURO_TRIBUTACAO       1 non-null      object \n",
      " 18  CD_LOGRADOURO_LOCALIZACAO   1 non-null      int64  \n",
      " 19  LOGRADOURO_LOCALIZACAO      1 non-null      object \n",
      " 20  NUMERO_METRICO_LOCALIZACAO  1 non-null      object \n",
      " 21  OBS_LOCALIZACAO             1 non-null      object \n",
      " 22  CD_BAIRRO_LOCALIZACAO       1 non-null      int64  \n",
      " 23  BAIRRO_LOCALIZACAO          1 non-null      object \n",
      " 24  CD_MUNICIPIO_LOCALIZACAO    1 non-null      int64  \n",
      " 25  MUNICIPIO_LOCALIZACAO       1 non-null      object \n",
      " 26  UF_LOCALIZACAO              1 non-null      object \n",
      " 27  CEP_LOCALIZACAO             1 non-null      int64  \n",
      " 28  ZONA_LOCALIZACAO            1 non-null      object \n",
      " 29  LOGRADOURO_DESTINATARIO     1 non-null      object \n",
      " 30  EDIFICIO_DESTINATARIO       1 non-null      object \n",
      " 31  NUMERO_PORTA_DESTINATARIO   1 non-null      object \n",
      " 32  COMPLEMENTO_DESTINATARIO    1 non-null      object \n",
      " 33  CD_BAIRRO_DESTINATARIO      1 non-null      int64  \n",
      " 34  BAIRRO_DESTINATARIO         1 non-null      object \n",
      " 35  CD_MUNICIPIO_DESTINATARIO   1 non-null      int64  \n",
      " 36  MUNICIPIO_DESTINATARIO      1 non-null      object \n",
      " 37  UF_DESTINATARIO             1 non-null      object \n",
      " 38  CEP_DESTINATARIO            1 non-null      int64  \n",
      " 39  AREA_TOTAL                  1 non-null      float64\n",
      " 40  AREA_CONSTRUIDA             1 non-null      float64\n",
      " 41  UTILIZACAO                  1 non-null      object \n",
      " 42  OCUPACAO                    1 non-null      object \n",
      " 43  ANO_CONTRUCAO               1 non-null      int64  \n",
      " 44  COD_SF                      1 non-null      int64  \n",
      " 45  DESC_SF                     1 non-null      object \n",
      " 46  VUPT                        1 non-null      float64\n",
      " 47  PADRAO_CONSTRUTIVO          1 non-null      object \n",
      " 48  VUPC                        1 non-null      float64\n",
      " 49  FL                          1 non-null      float64\n",
      " 50  VALOR_VENAL_TERRENO         1 non-null      float64\n",
      " 51  VALOR_VENAL_CONST           1 non-null      float64\n",
      " 52  VALOR_VENAL_TOTAL           1 non-null      float64\n",
      " 53  TRSD_LANCADA                1 non-null      float64\n",
      " 54  TRSD_COBRADA                1 non-null      float64\n",
      " 55  AREA_EXCEDENTE              1 non-null      float64\n",
      " 56  AREA_CONST_COBERTA          1 non-null      float64\n",
      " 57  FVT                         1 non-null      float64\n",
      " 58  FCT                         1 non-null      float64\n",
      " 59  FDT                         1 non-null      float64\n",
      " 60  FAV                         1 non-null      float64\n",
      " 61  VALOR_VENAL_EXCE            1 non-null      float64\n",
      " 62  AREA_CONST_DESCOB           1 non-null      float64\n",
      " 63  AREA_LIVRE                  1 non-null      float64\n",
      " 64  FIE                         1 non-null      float64\n",
      " 65  FCC                         1 non-null      float64\n",
      " 66  FPD                         1 non-null      float64\n",
      " 67  FDC                         1 non-null      float64\n",
      " 68  RECADASTRAMENTO_2013        1 non-null      object \n",
      " 69  NUMERO_HABITE_SE            1 non-null      object \n",
      " 70  DATA_CARGA                  1 non-null      object \n",
      " 71  DATA_ATUALIZACAO            1 non-null      object \n",
      "dtypes: float64(23), int64(12), object(37)\n",
      "memory usage: 708.0+ bytes\n"
     ]
    }
   ],
   "source": [
    "df['json_dict'] = df['data'].apply(lambda x: x[3]) \n",
    "\n",
    "# Normalizar a coluna de dicionários para colunas separadas\n",
    "df_normalizado = pd.json_normalize(df['json_dict'])\n",
    "\n",
    "# Concatenar o DataFrame normalizado com o original\n",
    "dados_inscricao = pd.concat([df, df_normalizado], axis=1)\n",
    "\n",
    "# Remover as colunas originais de strings JSON e dicionários, se não forem mais necessárias\n",
    "dados_inscricao.drop(columns=['data', 'json_dict'], inplace=True)\n",
    "\n",
    "# Exibir o DataFrame final\n",
    "dados_inscricao.info()"
   ]
  },
  {
   "cell_type": "code",
   "execution_count": 31,
   "metadata": {},
   "outputs": [
    {
     "data": {
      "text/plain": [
       "0    14699\n",
       "Name: CD_LOGRADOURO_TRIBUTACAO, dtype: int64"
      ]
     },
     "execution_count": 31,
     "metadata": {},
     "output_type": "execute_result"
    }
   ],
   "source": [
    "logradouro_buscado = dados_inscricao['CD_LOGRADOURO_TRIBUTACAO'] \n",
    "logradouro_buscado"
   ]
  },
  {
   "cell_type": "code",
   "execution_count": 35,
   "metadata": {},
   "outputs": [
    {
     "data": {
      "text/html": [
       "<div>\n",
       "<style scoped>\n",
       "    .dataframe tbody tr th:only-of-type {\n",
       "        vertical-align: middle;\n",
       "    }\n",
       "\n",
       "    .dataframe tbody tr th {\n",
       "        vertical-align: top;\n",
       "    }\n",
       "\n",
       "    .dataframe thead th {\n",
       "        text-align: right;\n",
       "    }\n",
       "</style>\n",
       "<table border=\"1\" class=\"dataframe\">\n",
       "  <thead>\n",
       "    <tr style=\"text-align: right;\">\n",
       "      <th></th>\n",
       "      <th>INSCRICAO</th>\n",
       "      <th>SITUACAO_CAD</th>\n",
       "      <th>NOME_CONTRIBUINTE</th>\n",
       "      <th>CPF_CNPJ_CONTRIBUINTE</th>\n",
       "      <th>CD_LOGRADOURO_LOCALIZACAO</th>\n",
       "      <th>CD_LOGRADOURO_TRIBUTACAO</th>\n",
       "      <th>NUMERO_METRICO_LOCALIZACAO</th>\n",
       "    </tr>\n",
       "  </thead>\n",
       "  <tbody>\n",
       "    <tr>\n",
       "      <th>0</th>\n",
       "      <td>5379253</td>\n",
       "      <td>SUSPENSA - PENDÃŠNCIA CADASTRAL</td>\n",
       "      <td>EUDES DE CASTRO TEIXEIRA</td>\n",
       "      <td>39626032553</td>\n",
       "      <td>14699</td>\n",
       "      <td>14699</td>\n",
       "      <td>4543</td>\n",
       "    </tr>\n",
       "  </tbody>\n",
       "</table>\n",
       "</div>"
      ],
      "text/plain": [
       "  INSCRICAO                     SITUACAO_CAD         NOME_CONTRIBUINTE  \\\n",
       "0   5379253  SUSPENSA - PENDÃŠNCIA CADASTRAL  EUDES DE CASTRO TEIXEIRA   \n",
       "\n",
       "  CPF_CNPJ_CONTRIBUINTE  CD_LOGRADOURO_LOCALIZACAO  CD_LOGRADOURO_TRIBUTACAO  \\\n",
       "0           39626032553                      14699                     14699   \n",
       "\n",
       "  NUMERO_METRICO_LOCALIZACAO  \n",
       "0                       4543  "
      ]
     },
     "execution_count": 35,
     "metadata": {},
     "output_type": "execute_result"
    }
   ],
   "source": [
    "inscricao = dados_inscricao[['INSCRICAO', 'SITUACAO_CAD', 'NOME_CONTRIBUINTE', 'CPF_CNPJ_CONTRIBUINTE', 'CD_LOGRADOURO_LOCALIZACAO', 'CD_LOGRADOURO_TRIBUTACAO', 'NUMERO_METRICO_LOCALIZACAO']]\n",
    "inscricao"
   ]
  },
  {
   "cell_type": "code",
   "execution_count": null,
   "metadata": {},
   "outputs": [
    {
     "data": {
      "text/html": [
       "<div>\n",
       "<style scoped>\n",
       "    .dataframe tbody tr th:only-of-type {\n",
       "        vertical-align: middle;\n",
       "    }\n",
       "\n",
       "    .dataframe tbody tr th {\n",
       "        vertical-align: top;\n",
       "    }\n",
       "\n",
       "    .dataframe thead th {\n",
       "        text-align: right;\n",
       "    }\n",
       "</style>\n",
       "<table border=\"1\" class=\"dataframe\">\n",
       "  <thead>\n",
       "    <tr style=\"text-align: right;\">\n",
       "      <th></th>\n",
       "      <th>data</th>\n",
       "      <th>filtro.tamPagina</th>\n",
       "      <th>filtro.numPagina</th>\n",
       "      <th>filtro.cpf_cnpj</th>\n",
       "      <th>filtro.data_atualizacao</th>\n",
       "      <th>dadosPagina.tempoConsulta</th>\n",
       "      <th>dadosPagina.linhaInicial</th>\n",
       "      <th>dadosPagina.tamPagina</th>\n",
       "    </tr>\n",
       "  </thead>\n",
       "  <tbody>\n",
       "    <tr>\n",
       "      <th>0</th>\n",
       "      <td>[{'LINHA': '1', 'INSCRICAO': '1608959', 'MAT_E...</td>\n",
       "      <td>200</td>\n",
       "      <td>1</td>\n",
       "      <td>39626032553</td>\n",
       "      <td></td>\n",
       "      <td>00:00:13.5717419</td>\n",
       "      <td>1</td>\n",
       "      <td>5</td>\n",
       "    </tr>\n",
       "  </tbody>\n",
       "</table>\n",
       "</div>"
      ],
      "text/plain": [
       "                                                data filtro.tamPagina  \\\n",
       "0  [{'LINHA': '1', 'INSCRICAO': '1608959', 'MAT_E...              200   \n",
       "\n",
       "  filtro.numPagina filtro.cpf_cnpj filtro.data_atualizacao  \\\n",
       "0                1     39626032553                           \n",
       "\n",
       "  dadosPagina.tempoConsulta dadosPagina.linhaInicial  dadosPagina.tamPagina  \n",
       "0          00:00:13.5717419                        1                      5  "
      ]
     },
     "metadata": {},
     "output_type": "display_data"
    }
   ],
   "source": []
  }
 ],
 "metadata": {
  "kernelspec": {
   "display_name": "Python 3",
   "language": "python",
   "name": "python3"
  },
  "language_info": {
   "codemirror_mode": {
    "name": "ipython",
    "version": 3
   },
   "file_extension": ".py",
   "mimetype": "text/x-python",
   "name": "python",
   "nbconvert_exporter": "python",
   "pygments_lexer": "ipython3",
   "version": "3.12.3"
  }
 },
 "nbformat": 4,
 "nbformat_minor": 2
}
